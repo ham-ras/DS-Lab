{
  "nbformat": 4,
  "nbformat_minor": 0,
  "metadata": {
    "colab": {
      "provenance": [],
      "authorship_tag": "ABX9TyPWWrOlm97SW2LGi4JpU92m"
    },
    "kernelspec": {
      "name": "python3",
      "display_name": "Python 3"
    },
    "language_info": {
      "name": "python"
    }
  },
  "cells": [
    {
      "cell_type": "code",
      "execution_count": 1,
      "metadata": {
        "colab": {
          "base_uri": "https://localhost:8080/"
        },
        "id": "3PWGqfYZvw0v",
        "outputId": "da3d3c3f-a397-4fe1-b395-a072a88f649c"
      },
      "outputs": [
        {
          "output_type": "stream",
          "name": "stdout",
          "text": [
            "[2 1 0 2 0 2 0 1 1 1 1 1 1 1 1 0 1 1 0 0 2 1 0 0 2 0 0 1 1 0 2 1 0 2 2 1 0\n",
            " 1 1 1 2 0 2 0 0 1 2 2 1 2 1 2 1 1 2 1 1 2 1 2 1 0 2 1 1 1 1 2 0 0 2 1 0 0\n",
            " 1]\n",
            "predicted output for [[5,5,4,4]]: [2]\n",
            "Score : 0.9466666666666667\n"
          ]
        }
      ],
      "source": [
        "from sklearn.datasets import load_iris\n",
        "from sklearn.model_selection import train_test_split\n",
        "from sklearn.naive_bayes import GaussianNB\n",
        "\n",
        "X,y=load_iris(return_X_y=True)\n",
        "X_train,X_test,y_train,y_test=train_test_split(X,y,test_size=0.5,random_state=0)\n",
        "gnb=GaussianNB()\n",
        "y_pred=gnb.fit(X_train,y_train).predict(X_test)\n",
        "print(y_pred)\n",
        "x_new=[[5,5,4,4]]\n",
        "y_new=gnb.fit(X_train,y_train).predict(x_new)\n",
        "print(\"predicted output for [[5,5,4,4]]:\",y_new)\n",
        "print(\"Score :\",gnb.score(X_test,y_test))"
      ]
    },
    {
      "cell_type": "code",
      "source": [],
      "metadata": {
        "id": "PxEUt4bbv5bT"
      },
      "execution_count": null,
      "outputs": []
    }
  ]
}